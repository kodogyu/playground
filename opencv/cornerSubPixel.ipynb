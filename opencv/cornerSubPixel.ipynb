{
 "cells": [
  {
   "cell_type": "code",
   "execution_count": 1,
   "metadata": {},
   "outputs": [],
   "source": [
    "import cv2\n",
    "import numpy as np\n",
    "import matplotlib.pyplot as plt"
   ]
  },
  {
   "cell_type": "code",
   "execution_count": null,
   "metadata": {},
   "outputs": [],
   "source": [
    "from copy import deepcopy\n",
    "corners = cv2.KeyPoint_convert(keypoints)\n",
    "window_size = (10, 10)\n",
    "zero_zone = (-1, -1)\n",
    "criteria = (cv2.TERM_CRITERIA_EPS + cv2.TERM_CRITERIA_COUNT, 10, 0.01)\n",
    "corners = cv2.cornerSubPix(cv2.cvtColor(left_key_frame, cv2.COLOR_RGB2GRAY),\n",
    "                                    corners,\n",
    "                                    (window_size, window_size),\n",
    "                                    (zero_zone, zero_zone),\n",
    "                                    criteria)\n",
    "\n",
    "left_kf_subpix = deepcopy(left_key_frame)\n",
    "for point in corners:\n",
    "    cv2.circle(left_kf_subpix, tuple(point), 3, (255, 0, 0), 2)\n",
    "plt.imshow(left_kf_subpix)\n",
    "plt.show()"
   ]
  }
 ],
 "metadata": {
  "kernelspec": {
   "display_name": "Python 3",
   "language": "python",
   "name": "python3"
  },
  "language_info": {
   "codemirror_mode": {
    "name": "ipython",
    "version": 3
   },
   "file_extension": ".py",
   "mimetype": "text/x-python",
   "name": "python",
   "nbconvert_exporter": "python",
   "pygments_lexer": "ipython3",
   "version": "3.8.10"
  }
 },
 "nbformat": 4,
 "nbformat_minor": 2
}
