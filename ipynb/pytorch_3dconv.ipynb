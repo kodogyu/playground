{
 "cells": [
  {
   "cell_type": "code",
   "execution_count": 1,
   "metadata": {},
   "outputs": [],
   "source": [
    "import torch"
   ]
  },
  {
   "cell_type": "code",
   "execution_count": 4,
   "metadata": {},
   "outputs": [
    {
     "name": "stdout",
     "output_type": "stream",
     "text": [
      "torch.Size([1, 1, 4, 4, 4])\n",
      "tensor([[[[[1., 2., 1., 1.],\n",
      "           [1., 2., 2., 1.],\n",
      "           [2., 1., 1., 1.],\n",
      "           [2., 1., 2., 1.]],\n",
      "\n",
      "          [[0., 2., 0., 1.],\n",
      "           [2., 0., 1., 0.],\n",
      "           [2., 2., 1., 0.],\n",
      "           [2., 2., 2., 1.]],\n",
      "\n",
      "          [[0., 2., 2., 2.],\n",
      "           [1., 1., 2., 2.],\n",
      "           [1., 0., 1., 1.],\n",
      "           [1., 0., 2., 2.]],\n",
      "\n",
      "          [[0., 2., 1., 1.],\n",
      "           [2., 2., 2., 1.],\n",
      "           [0., 1., 2., 1.],\n",
      "           [2., 0., 2., 2.]]]]])\n"
     ]
    }
   ],
   "source": [
    "tensor1 = torch.randint(0, 3, (1, 1, 4, 4, 4))\n",
    "tensor1 = tensor1.float()\n",
    "\n",
    "print(tensor1.shape)\n",
    "print(tensor1)"
   ]
  },
  {
   "cell_type": "code",
   "execution_count": 5,
   "metadata": {},
   "outputs": [
    {
     "name": "stdout",
     "output_type": "stream",
     "text": [
      "Parameter containing:\n",
      "tensor([[[[[ 0.1529,  0.2800],\n",
      "           [ 0.2304,  0.2916]],\n",
      "\n",
      "          [[ 0.1749, -0.3370],\n",
      "           [-0.2940,  0.1944]]]]], requires_grad=True)\n",
      "Parameter containing:\n",
      "tensor([-0.1909], requires_grad=True)\n"
     ]
    }
   ],
   "source": [
    "conv1 = torch.nn.Conv3d(in_channels=1, out_channels=1, kernel_size=2, stride=1, padding=0)\n",
    "\n",
    "print(conv1.weight)\n",
    "print(conv1.bias)"
   ]
  },
  {
   "cell_type": "code",
   "execution_count": 6,
   "metadata": {},
   "outputs": [
    {
     "name": "stdout",
     "output_type": "stream",
     "text": [
      "tensor([[[[[ 0.0737,  1.9833,  0.3635],\n",
      "           [ 1.4252,  0.4664,  0.7980],\n",
      "           [ 0.6241,  0.8694,  0.7759]],\n",
      "\n",
      "          [[ 0.0563,  0.1772, -0.2038],\n",
      "           [ 0.7030,  0.5369, -0.2314],\n",
      "           [ 1.6000,  1.4909,  0.3533]],\n",
      "\n",
      "          [[ 0.0180,  1.3023,  1.1634],\n",
      "           [ 0.3426,  0.5843,  0.8163],\n",
      "           [-0.7325,  0.5620,  1.0998]]]]], grad_fn=<ConvolutionBackward0>)\n"
     ]
    }
   ],
   "source": [
    "F1 = conv1(tensor1)\n",
    "\n",
    "print(F1)"
   ]
  },
  {
   "cell_type": "code",
   "execution_count": 7,
   "metadata": {},
   "outputs": [
    {
     "name": "stdout",
     "output_type": "stream",
     "text": [
      "Parameter containing:\n",
      "tensor([[[[[-0.1647, -0.0044],\n",
      "           [ 0.0772, -0.3414]],\n",
      "\n",
      "          [[-0.3340, -0.2895],\n",
      "           [ 0.2919, -0.2541]]]],\n",
      "\n",
      "\n",
      "\n",
      "        [[[[-0.3024, -0.2919],\n",
      "           [ 0.2777,  0.0414]],\n",
      "\n",
      "          [[ 0.3365,  0.0342],\n",
      "           [ 0.1437, -0.0883]]]]], requires_grad=True)\n",
      "Parameter containing:\n",
      "tensor([0.3017, 0.0854], requires_grad=True)\n"
     ]
    }
   ],
   "source": [
    "conv2 = torch.nn.Conv3d(in_channels=1, out_channels=2, kernel_size=2, stride=1, padding=0)\n",
    "\n",
    "print(conv2.weight)\n",
    "print(conv2.bias)"
   ]
  },
  {
   "cell_type": "code",
   "execution_count": 8,
   "metadata": {},
   "outputs": [
    {
     "name": "stdout",
     "output_type": "stream",
     "text": [
      "tensor([[[[[-4.7267e-01, -1.4826e+00, -5.2085e-02],\n",
      "           [-6.5129e-01, -2.6059e-01, -3.3847e-01],\n",
      "           [-1.3906e+00, -1.3549e+00, -5.8770e-02]],\n",
      "\n",
      "          [[-9.4036e-02, -1.8323e+00, -7.9696e-01],\n",
      "           [-8.8771e-01, -1.0568e+00, -9.9504e-01],\n",
      "           [-6.0710e-01, -1.3582e+00, -5.9789e-01]],\n",
      "\n",
      "          [[-4.7474e-01, -1.5240e+00, -8.5878e-01],\n",
      "           [-1.2914e+00, -1.6765e+00, -9.2861e-01],\n",
      "           [ 5.0843e-01, -1.8066e+00, -1.2777e+00]]],\n",
      "\n",
      "\n",
      "         [[[-8.4652e-02,  4.1141e-01,  2.6567e-01],\n",
      "           [ 5.7961e-01, -5.5089e-01, -1.2051e-02],\n",
      "           [ 6.3750e-01,  6.6939e-01,  6.2337e-01]],\n",
      "\n",
      "          [[ 1.8060e-01,  2.3035e-01,  9.2321e-01],\n",
      "           [ 6.3307e-01,  7.0664e-01,  8.5736e-01],\n",
      "           [ 1.5067e-02, -3.1573e-01,  8.6112e-01]],\n",
      "\n",
      "          [[-3.1801e-04,  7.5107e-02,  1.0463e-01],\n",
      "           [ 4.2173e-01, -5.1107e-02,  1.2208e-01],\n",
      "           [ 3.8228e-01,  1.0433e-01,  9.4706e-01]]]]],\n",
      "       grad_fn=<ConvolutionBackward0>)\n"
     ]
    }
   ],
   "source": [
    "F2 = conv2(tensor1)\n",
    "\n",
    "print(F2)"
   ]
  },
  {
   "cell_type": "code",
   "execution_count": 13,
   "metadata": {},
   "outputs": [
    {
     "name": "stdout",
     "output_type": "stream",
     "text": [
      "torch.Size([1, 1, 32, 32, 32])\n"
     ]
    }
   ],
   "source": [
    "input_t = torch.randint(0, 2, (1, 1, 32, 32, 32))  # [0, 2)\n",
    "input_t = input_t.float()\n",
    "print(input_t.shape)"
   ]
  },
  {
   "cell_type": "code",
   "execution_count": 52,
   "metadata": {},
   "outputs": [
    {
     "name": "stdout",
     "output_type": "stream",
     "text": [
      "torch.Size([1, 2, 28, 28, 28])\n"
     ]
    }
   ],
   "source": [
    "conv1 = torch.nn.Conv3d(in_channels=1, out_channels=2, kernel_size=3, stride=1, padding=0, dilation=2)\n",
    "out_conv1 = conv1(input_t)\n",
    "\n",
    "print(out_conv1.shape)"
   ]
  },
  {
   "cell_type": "code",
   "execution_count": 53,
   "metadata": {},
   "outputs": [
    {
     "name": "stdout",
     "output_type": "stream",
     "text": [
      "torch.Size([1, 4, 24, 24, 24])\n"
     ]
    }
   ],
   "source": [
    "conv2 = torch.nn.Conv3d(in_channels=2, out_channels=4, kernel_size=3, stride=1, padding=0, dilation=2)\n",
    "out_conv2 = conv2(out_conv1)\n",
    "\n",
    "print(out_conv2.shape)\n"
   ]
  },
  {
   "cell_type": "code",
   "execution_count": 64,
   "metadata": {},
   "outputs": [
    {
     "name": "stdout",
     "output_type": "stream",
     "text": [
      "torch.Size([1, 8, 20, 20, 20])\n"
     ]
    }
   ],
   "source": [
    "conv3 = torch.nn.Conv3d(in_channels=4, out_channels=8, kernel_size=3, stride=1, padding=0, dilation=2)\n",
    "out_conv3 = conv3(out_conv2)\n",
    "\n",
    "print(out_conv3.shape)"
   ]
  },
  {
   "cell_type": "code",
   "execution_count": 65,
   "metadata": {},
   "outputs": [
    {
     "name": "stdout",
     "output_type": "stream",
     "text": [
      "torch.Size([1, 16, 16, 16, 16])\n"
     ]
    }
   ],
   "source": [
    "conv4 = torch.nn.Conv3d(in_channels=8, out_channels=16, kernel_size=3, stride=1, padding=0, dilation=2)\n",
    "out_conv4 = conv4(out_conv3)\n",
    "\n",
    "print(out_conv4.shape)"
   ]
  },
  {
   "cell_type": "code",
   "execution_count": 66,
   "metadata": {},
   "outputs": [
    {
     "name": "stdout",
     "output_type": "stream",
     "text": [
      "torch.Size([1, 16, 64, 64])\n"
     ]
    }
   ],
   "source": [
    "conv2d_input_t = out_conv4.reshape(out_conv4.shape[0], out_conv4.shape[1], 64, 64)\n",
    "\n",
    "print(conv2d_input_t.shape)"
   ]
  },
  {
   "cell_type": "code",
   "execution_count": 77,
   "metadata": {},
   "outputs": [
    {
     "name": "stdout",
     "output_type": "stream",
     "text": [
      "torch.Size([1, 32, 32, 32])\n"
     ]
    }
   ],
   "source": [
    "class_head_conv1 = torch.nn.Conv2d(in_channels=16, out_channels=32, kernel_size=3, stride=2, padding=1, dilation=1)\n",
    "class_head_out1 = class_head_conv1(conv2d_input_t)\n",
    "\n",
    "print(class_head_out1.shape)"
   ]
  },
  {
   "cell_type": "code",
   "execution_count": 82,
   "metadata": {},
   "outputs": [
    {
     "name": "stdout",
     "output_type": "stream",
     "text": [
      "torch.Size([1, 4, 16, 16])\n"
     ]
    }
   ],
   "source": [
    "num_class = 4\n",
    "\n",
    "class_head_conv2 = torch.nn.Conv2d(in_channels=32, out_channels=num_class, kernel_size=3, stride=2, padding=1, dilation=1)\n",
    "class_head_out2 = class_head_conv2(class_head_out1)\n",
    "\n",
    "print(class_head_out2.shape)"
   ]
  },
  {
   "cell_type": "code",
   "execution_count": 81,
   "metadata": {},
   "outputs": [
    {
     "name": "stdout",
     "output_type": "stream",
     "text": [
      "torch.Size([1, 4, 8192])\n"
     ]
    }
   ],
   "source": [
    "out_class_head = class_head_out2.reshape(class_head_out2.shape[0], num_class, -1)\n",
    "print(out_class_head.shape)\n",
    "\n",
    "# out_class_head = out_class_head.reshape(-1, )"
   ]
  },
  {
   "cell_type": "code",
   "execution_count": 76,
   "metadata": {},
   "outputs": [
    {
     "name": "stdout",
     "output_type": "stream",
     "text": [
      "torch.Size([1, 64, 16, 16])\n"
     ]
    }
   ],
   "source": [
    "conv8 = torch.nn.Conv2d(in_channels=32, out_channels=64, kernel_size=3, stride=2, padding=1, dilation=1)\n",
    "out_conv8 = conv8(out_conv7)\n",
    "\n",
    "print(out_conv8.shape)"
   ]
  },
  {
   "cell_type": "code",
   "execution_count": null,
   "metadata": {},
   "outputs": [],
   "source": [
    "conv9 = "
   ]
  },
  {
   "cell_type": "code",
   "execution_count": 74,
   "metadata": {},
   "outputs": [
    {
     "name": "stdout",
     "output_type": "stream",
     "text": [
      "torch.Size([2, 28, 28])\n"
     ]
    }
   ],
   "source": [
    "a = torch.rand((1, 56,56))\n",
    "c = torch.nn.Conv2d(1, 2, 3, 2, 1)\n",
    "print(c(a).shape)"
   ]
  },
  {
   "cell_type": "code",
   "execution_count": null,
   "metadata": {},
   "outputs": [],
   "source": []
  }
 ],
 "metadata": {
  "kernelspec": {
   "display_name": "rl",
   "language": "python",
   "name": "python3"
  },
  "language_info": {
   "codemirror_mode": {
    "name": "ipython",
    "version": 3
   },
   "file_extension": ".py",
   "mimetype": "text/x-python",
   "name": "python",
   "nbconvert_exporter": "python",
   "pygments_lexer": "ipython3",
   "version": "3.12.2"
  }
 },
 "nbformat": 4,
 "nbformat_minor": 2
}
