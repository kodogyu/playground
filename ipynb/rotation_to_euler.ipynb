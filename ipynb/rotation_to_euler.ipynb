{
 "cells": [
  {
   "cell_type": "code",
   "execution_count": 4,
   "metadata": {},
   "outputs": [],
   "source": [
    "import numpy as np\n",
    "import math as m\n",
    "import sys\n"
   ]
  },
  {
   "cell_type": "code",
   "execution_count": 6,
   "metadata": {},
   "outputs": [
    {
     "name": "stdout",
     "output_type": "stream",
     "text": [
      "phi = -0.0025303620837752137\n",
      "theta  = 1.0400878759858185\n",
      "psi = 0.014041453097261498\n"
     ]
    }
   ],
   "source": [
    "R = np.array([ [5.06142850e-01,  1.46397063e-02,  8.62325399e-01],\n",
    "      [-1.28072741e-03,  9.99867578e-01, -1.62230368e-02],\n",
    "      [-8.62448708e-01,  7.10677031e-03,  5.06094575e-01]])\n",
    "tol = sys.float_info.epsilon * 10\n",
    "  \n",
    "if abs(R.item(0,0))< tol and abs(R.item(1,0)) < tol:\n",
    "   eul1 = 0\n",
    "   eul2 = m.atan2(-R.item(2,0), R.item(0,0))\n",
    "   eul3 = m.atan2(-R.item(1,2), R.item(1,1))\n",
    "else:   \n",
    "   eul1 = m.atan2(R.item(1,0),R.item(0,0))\n",
    "   sp = m.sin(eul1)\n",
    "   cp = m.cos(eul1)\n",
    "   eul2 = m.atan2(-R.item(2,0),cp*R.item(0,0)+sp*R.item(1,0))\n",
    "   eul3 = m.atan2(sp*R.item(0,2)-cp*R.item(1,2),cp*R.item(1,1)-sp*R.item(0,1))\n",
    "  \n",
    "print(\"phi =\", eul1)\n",
    "print(\"theta  =\", eul2)\n",
    "print(\"psi =\", eul3)"
   ]
  },
  {
   "cell_type": "code",
   "execution_count": null,
   "metadata": {},
   "outputs": [],
   "source": []
  },
  {
   "cell_type": "code",
   "execution_count": null,
   "metadata": {},
   "outputs": [
    {
     "ename": "",
     "evalue": "",
     "output_type": "error",
     "traceback": [
      "\u001b[1;31mThe kernel failed to start as 'filefind' could not be imported from '/usr/lib/python3/dist-packages/traitlets/utils/__init__.py'.\n",
      "\u001b[1;31mClick <a href='https://aka.ms/kernelFailuresModuleImportErrFromFile'>here</a> for more info."
     ]
    }
   ],
   "source": [
    "import numpy as np\n",
    "from scipy.spatial.transform import Rotation as R\n",
    "\n",
    "def rpy_to_rotation_matrix(roll, pitch, yaw):\n",
    "    # Create a rotation object from the given roll, pitch, and yaw\n",
    "    r = R.from_euler('xyz', [roll, pitch, yaw], degrees=True)\n",
    "    \n",
    "    # Convert the rotation object to a rotation matrix\n",
    "    rotation_matrix = r.as_matrix()\n",
    "    \n",
    "    return rotation_matrix\n",
    "\n",
    "# Example usage:\n",
    "roll = 30  # Roll angle in degrees\n",
    "pitch = 45  # Pitch angle in degrees\n",
    "yaw = 60  # Yaw angle in degrees\n",
    "\n",
    "rotation_matrix = rpy_to_rotation_matrix(roll, pitch, yaw)\n",
    "print(\"Rotation Matrix:\")\n",
    "print(rotation_matrix)\n"
   ]
  }
 ],
 "metadata": {
  "kernelspec": {
   "display_name": "Python 3",
   "language": "python",
   "name": "python3"
  },
  "language_info": {
   "codemirror_mode": {
    "name": "ipython",
    "version": 3
   },
   "file_extension": ".py",
   "mimetype": "text/x-python",
   "name": "python",
   "nbconvert_exporter": "python",
   "pygments_lexer": "ipython3",
   "version": "3.8.10"
  }
 },
 "nbformat": 4,
 "nbformat_minor": 2
}
