{
 "cells": [
  {
   "cell_type": "code",
   "execution_count": 3,
   "metadata": {},
   "outputs": [],
   "source": [
    "import cv2\n",
    "import yaml\n",
    "import numpy as np\n",
    "import matplotlib.pyplot as plt\n",
    "from copy import deepcopy\n",
    "\n",
    "import yaml"
   ]
  },
  {
   "cell_type": "code",
   "execution_count": 4,
   "metadata": {},
   "outputs": [
    {
     "name": "stdout",
     "output_type": "stream",
     "text": [
      "yaml loaded\n",
      "left camera parameters loaded\n",
      "right camera parameters loaded\n"
     ]
    }
   ],
   "source": [
    "yaml_filename = \"/home/kodogyu/kimera_multi_ws/src/kimera_vio/params/L515_stereo/FrontendParams.yaml\"\n",
    "left_camera_filename = \"/home/kodogyu/kimera_multi_ws/src/kimera_vio/params/L515_stereo/LeftCameraParams.yaml\"\n",
    "right_camera_filename = \"/home/kodogyu/kimera_multi_ws/src/kimera_vio/params/L515_stereo/RightCameraParams.yaml\"\n",
    "\n",
    "with open(yaml_filename, \"r\") as stream:\n",
    "    stream.readline()  # %YAML:1.0 건너뛰기\n",
    "    yaml_data = yaml.safe_load(stream)\n",
    "print(\"yaml loaded\")\n",
    "\n",
    "with open(left_camera_filename, \"r\") as l_stream:\n",
    "    l_stream.readline()  # %YAML:1.0 건너뛰기\n",
    "    left_camera_params = yaml.safe_load(l_stream)\n",
    "print(\"left camera parameters loaded\")\n",
    "\n",
    "with open(right_camera_filename, \"r\") as r_stream:\n",
    "    r_stream.readline()  # %YAML:1.0 건너뛰기\n",
    "    right_camera_params = yaml.safe_load(r_stream)\n",
    "print(\"right camera parameters loaded\")\n"
   ]
  },
  {
   "cell_type": "code",
   "execution_count": 5,
   "metadata": {},
   "outputs": [
    {
     "name": "stdout",
     "output_type": "stream",
     "text": [
      "camL_Pose_camR: \n",
      "[[ 9.99987669e-01 -1.52341497e-04  4.96532807e-03 -8.94995766e-03]\n",
      " [ 1.51149190e-04  9.99999959e-01  2.37907917e-04 -4.77693889e-05]\n",
      " [-4.96536165e-03 -2.37162346e-04  9.99987642e-01  1.86356145e-04]\n",
      " [ 0.00000000e+00  0.00000000e+00  0.00000000e+00  1.00000000e+00]]\n"
     ]
    }
   ],
   "source": [
    "# calculate Left camera -> Right camera transformation matrix\n",
    "body_T_Lcam = np.array(left_camera_params[\"T_BS\"][\"data\"]).reshape((4, 4))\n",
    "body_T_Rcam = np.array(right_camera_params[\"T_BS\"][\"data\"]).reshape((4, 4))\n",
    "# print(\"body_T_Lcam: \")\n",
    "# print(body_T_Lcam)\n",
    "# print(\"body_T_Rcam: \")\n",
    "# print(body_T_Rcam)\n",
    "\n",
    "l_rotation = body_T_Lcam[:-1, :-1]\n",
    "l_translation = body_T_Lcam[:-1, 3].reshape((3, 1))\n",
    "# r_rotation = body_T_Rcam[:-1, :-1]\n",
    "# r_translation = body_T_Rcam[:-1, 3].reshape((3, 1))\n",
    "\n",
    "# print(\"l_rotation: \")\n",
    "# print(l_rotation)\n",
    "# print(\"l_translation: \")\n",
    "# print(l_translation)\n",
    "\n",
    "l_inverse_rotation = l_rotation.transpose()\n",
    "l_inverse_translation = -np.matmul(l_inverse_rotation, l_translation)\n",
    "# r_inverse_rotation = r_rotation.transpose()\n",
    "# r_inverse_translation = -np.matmul(r_inverse_rotation, r_translation)\n",
    "Lcam_T_body = np.column_stack([l_inverse_rotation, l_inverse_translation])\n",
    "Lcam_T_body = np.row_stack([Lcam_T_body, np.array([0, 0, 0, 1])])\n",
    "# Rcam_T_body = np.column_stack([r_inverse_rotation, r_inverse_translation])\n",
    "# Rcam_T_body = np.row_stack([Rcam_T_body, np.array([0, 0, 0, 1])])\n",
    "\n",
    "camL_Pose_camR = np.matmul(body_T_Rcam, Lcam_T_body)\n",
    "print(\"camL_Pose_camR: \")\n",
    "print(camL_Pose_camR)"
   ]
  },
  {
   "cell_type": "code",
   "execution_count": 8,
   "metadata": {},
   "outputs": [],
   "source": [
    "gtsam_pose_inv = np.array([[0.999988,  0.000246216,  -0.00495778,   0.00888662],\n",
    "                    [-0.000247748, 1, -0.000305755,  0.000170101],\n",
    "                    [0.00495771,  0.000306972,     0.999988, -0.000153022],\n",
    "                    [0,            0,            0,            1]])"
   ]
  },
  {
   "cell_type": "code",
   "execution_count": 9,
   "metadata": {},
   "outputs": [
    {
     "name": "stdout",
     "output_type": "stream",
     "text": [
      "stereo_camera:\n",
      "[[650.15163667   0.         336.90478134   0.        ]\n",
      " [  0.         650.15163667 261.60665894   0.        ]\n",
      " [  0.           0.           1.           0.        ]]\n",
      "stereo_baseline:\n",
      "-0.008889564956007972\n"
     ]
    }
   ],
   "source": [
    "l_fx, l_fy, l_cx, l_cy = left_camera_params[\"intrinsics\"]\n",
    "r_fx, r_fy, r_cx, r_cy = right_camera_params[\"intrinsics\"]\n",
    "left_camera_intrinsic = np.array([[l_fx, 0, l_cx], [0, l_fy, l_cy], [0, 0, 1]])\n",
    "right_camera_intrinsic = np.array([[r_fx, 0, r_cx], [0, r_fy, r_cy], [0, 0, 1]])\n",
    "\n",
    "left_camera_distCoeffs = np.array(left_camera_params[\"distortion_coefficients\"])\n",
    "right_camera_distCoeffs = np.array(right_camera_params[\"distortion_coefficients\"])\n",
    "\n",
    "camL_Rot_camR = gtsam_pose_inv[:-1, :-1]\n",
    "# camL_Tran_camR = -np.matmul(camL_Rot_camR, camL_Pose_camR[:-1, 3])\n",
    "# camL_Rot_camR = camL_Pose_camR[:-1, :-1]\n",
    "camL_Tran_camR = gtsam_pose_inv[:-1, 3]\n",
    "kAlpha = 0\n",
    "\n",
    "r1, r2, p1, p2, q, roi1, roi2= cv2.stereoRectify(left_camera_intrinsic, \n",
    "                                                 left_camera_distCoeffs, \n",
    "                                                 right_camera_intrinsic, \n",
    "                                                 right_camera_distCoeffs, \n",
    "                                                 np.array(left_camera_params[\"resolution\"]), \n",
    "                                                 camL_Rot_camR, \n",
    "                                                 camL_Tran_camR, \n",
    "                                                 flags=cv2.CALIB_ZERO_DISPARITY, \n",
    "                                                 alpha=kAlpha\n",
    "                                                 )\n",
    "\n",
    "stereo_camera = p1\n",
    "stereo_baseline = 1 / q[3, 2]\n",
    "print(\"stereo_camera:\")\n",
    "print(stereo_camera)\n",
    "print(\"stereo_baseline:\")\n",
    "print(stereo_baseline)"
   ]
  },
  {
   "cell_type": "code",
   "execution_count": 11,
   "metadata": {},
   "outputs": [
    {
     "name": "stdout",
     "output_type": "stream",
     "text": [
      "[ 0.14669701 -0.27353153  0.00730068 -0.003734  ]\n",
      "[ 0.14148691 -0.26292268  0.00708119 -0.00551033]\n"
     ]
    }
   ],
   "source": [
    "print(left_camera_distCoeffs)\n",
    "print(right_camera_distCoeffs)"
   ]
  }
 ],
 "metadata": {
  "kernelspec": {
   "display_name": "Python 3",
   "language": "python",
   "name": "python3"
  },
  "language_info": {
   "codemirror_mode": {
    "name": "ipython",
    "version": 3
   },
   "file_extension": ".py",
   "mimetype": "text/x-python",
   "name": "python",
   "nbconvert_exporter": "python",
   "pygments_lexer": "ipython3",
   "version": "3.8.10"
  }
 },
 "nbformat": 4,
 "nbformat_minor": 2
}
