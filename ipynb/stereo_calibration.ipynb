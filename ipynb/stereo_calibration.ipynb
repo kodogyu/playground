{
 "cells": [
  {
   "cell_type": "code",
   "execution_count": 2,
   "metadata": {},
   "outputs": [],
   "source": [
    "import cv2\n",
    "import yaml\n",
    "import numpy as np\n",
    "import matplotlib.pyplot as plt\n",
    "from copy import deepcopy\n",
    "\n",
    "import yaml"
   ]
  },
  {
   "cell_type": "code",
   "execution_count": 4,
   "metadata": {},
   "outputs": [
    {
     "name": "stdout",
     "output_type": "stream",
     "text": [
      "yaml loaded\n",
      "left camera parameters loaded\n",
      "right camera parameters loaded\n"
     ]
    }
   ],
   "source": [
    "yaml_filename = \"/home/kodogyu/kimera_multi_ws/src/kimera_vio/params/L515_stereo/FrontendParams.yaml\"\n",
    "left_camera_filename = \"/home/kodogyu/kimera_multi_ws/src/kimera_vio/params/L515_stereo/LeftCameraParams.yaml\"\n",
    "right_camera_filename = \"/home/kodogyu/kimera_multi_ws/src/kimera_vio/params/L515_stereo/RightCameraParams.yaml\"\n",
    "\n",
    "with open(yaml_filename, \"r\") as stream:\n",
    "    stream.readline()  # %YAML:1.0 건너뛰기\n",
    "    yaml_data = yaml.safe_load(stream)\n",
    "print(\"yaml loaded\")\n",
    "\n",
    "with open(left_camera_filename, \"r\") as l_stream:\n",
    "    l_stream.readline()  # %YAML:1.0 건너뛰기\n",
    "    left_camera_params = yaml.safe_load(l_stream)\n",
    "print(\"left camera parameters loaded\")\n",
    "\n",
    "with open(right_camera_filename, \"r\") as r_stream:\n",
    "    r_stream.readline()  # %YAML:1.0 건너뛰기\n",
    "    right_camera_params = yaml.safe_load(r_stream)\n",
    "print(\"right camera parameters loaded\")\n"
   ]
  },
  {
   "cell_type": "code",
   "execution_count": 48,
   "metadata": {},
   "outputs": [
    {
     "name": "stdout",
     "output_type": "stream",
     "text": [
      "camL_Pose_camR: \n",
      "[[ 9.99987688e-01 -2.47748079e-04  4.95770871e-03 -8.88571289e-03]\n",
      " [ 2.46216489e-04  9.99999921e-01  3.06972131e-04 -1.72242022e-04]\n",
      " [-4.95778223e-03 -3.05755384e-04  9.99987661e-01  1.97129796e-04]\n",
      " [ 0.00000000e+00  0.00000000e+00  0.00000000e+00  1.00000000e+00]]\n"
     ]
    }
   ],
   "source": [
    "# calculate Left camera -> Right camera transformation matrix\n",
    "body_T_Lcam = np.array(left_camera_params[\"T_BS\"][\"data\"]).reshape((4, 4))\n",
    "body_T_Rcam = np.array(right_camera_params[\"T_BS\"][\"data\"]).reshape((4, 4))\n",
    "# print(\"body_T_Lcam: \")\n",
    "# print(body_T_Lcam)\n",
    "# print(\"body_T_Rcam: \")\n",
    "# print(body_T_Rcam)\n",
    "\n",
    "l_rotation = body_T_Lcam[:-1, :-1]\n",
    "l_translation = body_T_Lcam[:-1, 3].reshape((3, 1))\n",
    "\n",
    "# print(\"l_rotation: \")\n",
    "# print(l_rotation)\n",
    "# print(\"l_translation: \")\n",
    "# print(l_translation)\n",
    "\n",
    "l_inverse_rotation = l_rotation.transpose()\n",
    "l_inverse_translation = -np.matmul(l_inverse_rotation, l_translation)\n",
    "Lcam_T_body = np.column_stack([l_inverse_rotation, l_inverse_translation])\n",
    "Lcam_T_body = np.row_stack([Lcam_T_body, np.array([0, 0, 0, 1])])\n",
    "\n",
    "camL_Pose_camR = np.matmul(Lcam_T_body, body_T_Rcam)\n",
    "print(\"camL_Pose_camR: \")\n",
    "print(camL_Pose_camR)"
   ]
  },
  {
   "cell_type": "code",
   "execution_count": 66,
   "metadata": {},
   "outputs": [
    {
     "name": "stdout",
     "output_type": "stream",
     "text": [
      "stereo_camera:\n",
      "[[648.62802467   0.         336.90341949   0.        ]\n",
      " [  0.         648.62802467 261.60647964   0.        ]\n",
      " [  0.           0.           1.           0.        ]]\n",
      "stereo_baseline:\n",
      "0.008889568098128261\n"
     ]
    }
   ],
   "source": [
    "l_fx, l_fy, l_cx, l_cy = left_camera_params[\"intrinsics\"]\n",
    "r_fx, r_fy, r_cx, r_cy = right_camera_params[\"intrinsics\"]\n",
    "left_camera_intrinsic = np.array([[l_fx, 0, l_cx], [0, l_fy, l_cy], [0, 0, 1]])\n",
    "right_camera_intrinsic = np.array([[r_fx, 0, r_cx], [0, r_fy, r_cy], [0, 0, 1]])\n",
    "\n",
    "left_camera_distCoeffs = np.array(left_camera_params[\"distortion_coefficients\"])\n",
    "right_camera_distCoeffs = np.array(right_camera_params[\"distortion_coefficients\"])\n",
    "\n",
    "camL_Rot_camR = camL_Pose_camR[:-1, :-1]\n",
    "camL_Tran_camR = camL_Pose_camR[:-1, 3]\n",
    "kAlpha = 0\n",
    "\n",
    "r1, r2, p1, p2, q, roi1, roi2= cv2.stereoRectify(left_camera_intrinsic, \n",
    "                                                 left_camera_distCoeffs, \n",
    "                                                 right_camera_intrinsic, \n",
    "                                                 right_camera_distCoeffs, \n",
    "                                                 np.array(left_camera_params[\"resolution\"]), \n",
    "                                                 camL_Rot_camR, \n",
    "                                                 camL_Tran_camR, \n",
    "                                                 flags=cv2.CALIB_ZERO_DISPARITY, \n",
    "                                                 alpha=kAlpha\n",
    "                                                 )\n",
    "\n",
    "stereo_camera = p1\n",
    "stereo_baseline = 1 / q[3, 2]\n",
    "print(\"stereo_camera:\")\n",
    "print(stereo_camera)\n",
    "print(\"stereo_baseline:\")\n",
    "print(stereo_baseline)"
   ]
  }
 ],
 "metadata": {
  "kernelspec": {
   "display_name": "Python 3",
   "language": "python",
   "name": "python3"
  },
  "language_info": {
   "codemirror_mode": {
    "name": "ipython",
    "version": 3
   },
   "file_extension": ".py",
   "mimetype": "text/x-python",
   "name": "python",
   "nbconvert_exporter": "python",
   "pygments_lexer": "ipython3",
   "version": "3.8.10"
  }
 },
 "nbformat": 4,
 "nbformat_minor": 2
}
