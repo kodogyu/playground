{
 "cells": [
  {
   "cell_type": "code",
   "execution_count": 2,
   "metadata": {},
   "outputs": [],
   "source": [
    "import torch\n",
    "import torch.nn as nn\n",
    "\n",
    "import random\n",
    "import numpy as np\n",
    "import matplotlib.pyplot as plt\n",
    "from mlxtend.data import loadlocal_mnist"
   ]
  },
  {
   "cell_type": "code",
   "execution_count": 3,
   "metadata": {},
   "outputs": [],
   "source": [
    "def show(image, title):\n",
    "    index = 1 \n",
    "    plt.figure(figsize=(10,5))\n",
    "\n",
    "    for x in zip(image, title):\n",
    "        image = x[0]\n",
    "        title = x[1]\n",
    "        plt.subplot(2, 5, index)\n",
    "        plt.imshow(image, cmap=plt.cm.gray)\n",
    "        plt.title(x[1], fontsize = 9)\n",
    "        index += 1\n",
    "    plt.show()\n",
    "\n",
    "def load_MNIST(images_filepath, labels_filepath, verbose=False):\n",
    "    # training_images_filepath = 'train-images.idx3-ubyte'\n",
    "    # training_labels_filepath = 'train-labels.idx1-ubyte'\n",
    "    # test_images_filepath = 't10k-images.idx3-ubyte'\n",
    "    # test_labels_filepath = 't10k-labels.idx1-ubyte'\n",
    "\n",
    "    X_images, y_labels = loadlocal_mnist( images_filepath, labels_filepath)\n",
    "\n",
    "    if verbose:\n",
    "        print('Dimension of images:', np.shape(X_images))\n",
    "        print('Dimension of labels:',np.shape(y_labels))\n",
    "\n",
    "    # reshape the arrays:\n",
    "    X_images = X_images.reshape(-1, 28, 28)\n",
    "\n",
    "    if verbose:\n",
    "        print('Dimension of images:', np.shape(X_images))\n",
    "\n",
    "    if verbose:\n",
    "        image = []\n",
    "        title = []\n",
    "\n",
    "        for i in range(0, 5):\n",
    "            r = random.randint(1, len(X_images))\n",
    "            image.append(X_images[r])\n",
    "            title.append('image:' + str(y_labels[r]))\n",
    "\n",
    "        show(image, title)\n",
    "\n",
    "    return X_images, y_labels"
   ]
  },
  {
   "cell_type": "code",
   "execution_count": null,
   "metadata": {},
   "outputs": [],
   "source": [
    "class myCNN(nn.Module):\n",
    "    def __init__(self):\n",
    "        super().__init__(self)\n",
    "        self.conv1 = nn.Conv2d(1, 8, 3)\n",
    "        self.conv2 = nn.Conv2d(8, 16, 3)\n",
    "        self.conv3 = nn.Conv2d(16, 32, 3)"
   ]
  },
  {
   "cell_type": "code",
   "execution_count": null,
   "metadata": {},
   "outputs": [],
   "source": [
    "l1 = nn.Conv2d(1, 8, 3)"
   ]
  }
 ],
 "metadata": {
  "kernelspec": {
   "display_name": "ai",
   "language": "python",
   "name": "python3"
  },
  "language_info": {
   "codemirror_mode": {
    "name": "ipython",
    "version": 3
   },
   "file_extension": ".py",
   "mimetype": "text/x-python",
   "name": "python",
   "nbconvert_exporter": "python",
   "pygments_lexer": "ipython3",
   "version": "3.11.9"
  }
 },
 "nbformat": 4,
 "nbformat_minor": 2
}
