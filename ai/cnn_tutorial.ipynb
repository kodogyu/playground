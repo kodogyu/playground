{
 "cells": [
  {
   "cell_type": "code",
   "execution_count": 1,
   "metadata": {},
   "outputs": [],
   "source": [
    "import torch\n",
    "import torch.nn as nn\n",
    "import torch.nn.functional as F\n",
    "from torch.utils.data import Dataset, DataLoader\n",
    "\n",
    "import torchvision\n",
    "import torchvision.transforms as transforms\n",
    "\n",
    "from tqdm import tqdm\n",
    "\n",
    "import random\n",
    "import numpy as np\n",
    "import matplotlib.pyplot as plt\n",
    "from mlxtend.data import loadlocal_mnist\n",
    "\n",
    "import wandb"
   ]
  },
  {
   "cell_type": "code",
   "execution_count": 2,
   "metadata": {},
   "outputs": [],
   "source": [
    "def show(image, title):\n",
    "    index = 1 \n",
    "    plt.figure(figsize=(10,5))\n",
    "\n",
    "    for x in zip(image, title):\n",
    "        image = x[0]\n",
    "        title = x[1]\n",
    "        plt.subplot(2, 5, index)\n",
    "        plt.imshow(image, cmap=plt.cm.gray)\n",
    "        plt.title(x[1], fontsize = 9)\n",
    "        index += 1\n",
    "    plt.show()\n",
    "\n",
    "def load_MNIST(images_filepath, labels_filepath, verbose=False):\n",
    "    # training_images_filepath = 'train-images.idx3-ubyte'\n",
    "    # training_labels_filepath = 'train-labels.idx1-ubyte'\n",
    "    # test_images_filepath = 't10k-images.idx3-ubyte'\n",
    "    # test_labels_filepath = 't10k-labels.idx1-ubyte'\n",
    "\n",
    "    X_images, y_labels = loadlocal_mnist( images_filepath, labels_filepath)\n",
    "\n",
    "    if verbose:\n",
    "        print('Dimension of images:', np.shape(X_images))\n",
    "        print('Dimension of labels:',np.shape(y_labels))\n",
    "\n",
    "    # reshape the arrays:\n",
    "    X_images = X_images.reshape(-1, 28, 28)\n",
    "\n",
    "    if verbose:\n",
    "        print('Dimension of images:', np.shape(X_images))\n",
    "\n",
    "    if verbose:\n",
    "        image = []\n",
    "        title = []\n",
    "\n",
    "        for i in range(0, 5):\n",
    "            r = random.randint(1, len(X_images))\n",
    "            image.append(X_images[r])\n",
    "            title.append('image:' + str(y_labels[r]))\n",
    "\n",
    "        show(image, title)\n",
    "\n",
    "    return X_images, y_labels"
   ]
  },
  {
   "cell_type": "code",
   "execution_count": 3,
   "metadata": {},
   "outputs": [
    {
     "name": "stderr",
     "output_type": "stream",
     "text": [
      "Failed to detect the name of this notebook, you can set it manually with the WANDB_NOTEBOOK_NAME environment variable to enable code saving.\n",
      "\u001b[34m\u001b[1mwandb\u001b[0m: Currently logged in as: \u001b[33mkodogyu\u001b[0m (\u001b[33mkodogyu-kyung-hee-university\u001b[0m). Use \u001b[1m`wandb login --relogin`\u001b[0m to force relogin\n"
     ]
    },
    {
     "data": {
      "text/html": [
       "wandb version 0.17.8 is available!  To upgrade, please run:\n",
       " $ pip install wandb --upgrade"
      ],
      "text/plain": [
       "<IPython.core.display.HTML object>"
      ]
     },
     "metadata": {},
     "output_type": "display_data"
    },
    {
     "data": {
      "text/html": [
       "Tracking run with wandb version 0.16.6"
      ],
      "text/plain": [
       "<IPython.core.display.HTML object>"
      ]
     },
     "metadata": {},
     "output_type": "display_data"
    },
    {
     "data": {
      "text/html": [
       "Run data is saved locally in <code>c:\\Users\\user\\Documents\\playground\\ai\\wandb\\run-20240829_172740-0v87eg9e</code>"
      ],
      "text/plain": [
       "<IPython.core.display.HTML object>"
      ]
     },
     "metadata": {},
     "output_type": "display_data"
    },
    {
     "data": {
      "text/html": [
       "Syncing run <strong><a href='https://wandb.ai/kodogyu-kyung-hee-university/Playground-MNIST%20CNN%20Classifier/runs/0v87eg9e' target=\"_blank\">glamorous-capybara-3</a></strong> to <a href='https://wandb.ai/kodogyu-kyung-hee-university/Playground-MNIST%20CNN%20Classifier' target=\"_blank\">Weights & Biases</a> (<a href='https://wandb.me/run' target=\"_blank\">docs</a>)<br/>"
      ],
      "text/plain": [
       "<IPython.core.display.HTML object>"
      ]
     },
     "metadata": {},
     "output_type": "display_data"
    },
    {
     "data": {
      "text/html": [
       " View project at <a href='https://wandb.ai/kodogyu-kyung-hee-university/Playground-MNIST%20CNN%20Classifier' target=\"_blank\">https://wandb.ai/kodogyu-kyung-hee-university/Playground-MNIST%20CNN%20Classifier</a>"
      ],
      "text/plain": [
       "<IPython.core.display.HTML object>"
      ]
     },
     "metadata": {},
     "output_type": "display_data"
    },
    {
     "data": {
      "text/html": [
       " View run at <a href='https://wandb.ai/kodogyu-kyung-hee-university/Playground-MNIST%20CNN%20Classifier/runs/0v87eg9e' target=\"_blank\">https://wandb.ai/kodogyu-kyung-hee-university/Playground-MNIST%20CNN%20Classifier/runs/0v87eg9e</a>"
      ],
      "text/plain": [
       "<IPython.core.display.HTML object>"
      ]
     },
     "metadata": {},
     "output_type": "display_data"
    }
   ],
   "source": [
    "# Hyperparameters\n",
    "batch_size = 32\n",
    "learning_rate = 0.001\n",
    "num_epochs = 20\n",
    "\n",
    "# random seed\n",
    "random_seed = 0\n",
    "torch.manual_seed(random_seed)\n",
    "random.seed(random_seed)\n",
    "np.random.seed(random_seed)\n",
    "\n",
    "wandb.init(project=\"Playground-MNIST CNN Classifier\")\n",
    "args = {\n",
    "    \"learning_rate\": learning_rate,\n",
    "    \"batch_size\": batch_size,\n",
    "    \"num_epochs\": num_epochs,\n",
    "    \"random_seed\": random_seed\n",
    "}\n",
    "wandb.config.update(args)\n"
   ]
  },
  {
   "cell_type": "code",
   "execution_count": 4,
   "metadata": {},
   "outputs": [
    {
     "name": "stdout",
     "output_type": "stream",
     "text": [
      "cuda\n"
     ]
    }
   ],
   "source": [
    "device = 'cuda'\n",
    "print(device)"
   ]
  },
  {
   "cell_type": "code",
   "execution_count": 5,
   "metadata": {},
   "outputs": [],
   "source": [
    "class MNISTDataset(Dataset):\n",
    "    def __init__(self, images_path, labels_path, transform):\n",
    "        self.images, self.labels = loadlocal_mnist(images_path, labels_path)\n",
    "        self.transform = transform\n",
    "\n",
    "    def __len__(self):\n",
    "        return len(self.images)\n",
    "    \n",
    "    def __getitem__(self, idx):\n",
    "        image = self.images[idx].reshape(28,28)\n",
    "        label = torch.tensor(self.labels[idx], dtype=int)\n",
    "\n",
    "        if self.transform:\n",
    "            image = self.transform(image)\n",
    "\n",
    "        label = F.one_hot(label, 10).to(float)\n",
    "\n",
    "        return image, label\n",
    "\n",
    "transform = torchvision.transforms.Compose([\n",
    "    transforms.ToTensor()\n",
    "])\n",
    "\n",
    "train_dataset = MNISTDataset(\"datasets/train-images.idx3-ubyte\", \"datasets/train-labels.idx1-ubyte\", transform)\n",
    "test_dataset = MNISTDataset(\"datasets/t10k-images.idx3-ubyte\", \"datasets/t10k-labels.idx1-ubyte\", transform)\n",
    "\n",
    "train_dataloader = DataLoader(train_dataset, batch_size=batch_size, shuffle=True)\n",
    "test_dataloader = DataLoader(test_dataset, batch_size=batch_size, shuffle=False)"
   ]
  },
  {
   "cell_type": "code",
   "execution_count": 6,
   "metadata": {},
   "outputs": [
    {
     "name": "stdout",
     "output_type": "stream",
     "text": [
      "60000\n",
      "10000\n",
      "1875\n",
      "313\n"
     ]
    }
   ],
   "source": [
    "print(len(train_dataset))\n",
    "print(len(test_dataset))\n",
    "print(len(train_dataloader))\n",
    "print(len(test_dataloader))"
   ]
  },
  {
   "cell_type": "code",
   "execution_count": 7,
   "metadata": {},
   "outputs": [
    {
     "data": {
      "text/plain": [
       "myCNN(\n",
       "  (conv1): Conv2d(1, 8, kernel_size=(3, 3), stride=(1, 1), padding=(1, 1))\n",
       "  (conv2): Conv2d(8, 16, kernel_size=(3, 3), stride=(1, 1), padding=(1, 1))\n",
       "  (conv3): Conv2d(16, 32, kernel_size=(3, 3), stride=(1, 1), padding=(1, 1))\n",
       "  (fc): Linear(in_features=32, out_features=10, bias=True)\n",
       "  (max_pool): MaxPool2d(kernel_size=2, stride=2, padding=0, dilation=1, ceil_mode=False)\n",
       ")"
      ]
     },
     "execution_count": 7,
     "metadata": {},
     "output_type": "execute_result"
    }
   ],
   "source": [
    "class myCNN(nn.Module):\n",
    "    def __init__(self):\n",
    "        super().__init__()\n",
    "        self.conv1 = nn.Conv2d(in_channels=1, out_channels=8, kernel_size=3, padding=1)  # (8,28,28)\n",
    "        self.conv2 = nn.Conv2d(in_channels=8, out_channels=16, kernel_size=3, padding=1)  # (16,14,14)\n",
    "        self.conv3 = nn.Conv2d(in_channels=16, out_channels=32, kernel_size=3, padding=1)  # (32,7,7)\n",
    "        self.fc = nn.Linear(32, 10)\n",
    "\n",
    "        self.max_pool = nn.MaxPool2d(kernel_size=2, stride=2)\n",
    "\n",
    "    def forward(self, x):\n",
    "        x = F.relu(self.conv1(x))  # (B,8,28,28)\n",
    "        x = F.relu(self.max_pool(self.conv2(x)))  # (B,16,14,14)\n",
    "        x = F.relu(self.max_pool(self.conv3(x)))  # (B,32,7,7)\n",
    "        x = F.avg_pool2d(x, kernel_size=7)  # (B,32,1,1)\n",
    "        x = x.flatten(start_dim=1)  # (B,32)\n",
    "        logit = self.fc(x)\n",
    "\n",
    "        return logit\n",
    "\n",
    "cnn = myCNN().to(device)\n",
    "cnn.train()"
   ]
  },
  {
   "cell_type": "code",
   "execution_count": 8,
   "metadata": {},
   "outputs": [],
   "source": [
    "optimizer = torch.optim.Adam(cnn.parameters(), lr=learning_rate)\n",
    "\n",
    "criterion = torch.nn.CrossEntropyLoss()"
   ]
  },
  {
   "cell_type": "code",
   "execution_count": 9,
   "metadata": {},
   "outputs": [],
   "source": [
    "def get_test_acc(model):\n",
    "    with torch.no_grad():\n",
    "        # test\n",
    "        correct_cnt = 0\n",
    "        samples_cnt = 0\n",
    "        for image, label in tqdm(test_dataloader):\n",
    "            image = image.to(device)\n",
    "            label = label.to(device)\n",
    "\n",
    "            answer = torch.argmax(label, dim=1)\n",
    "\n",
    "            pred = model(image)\n",
    "            pred_label = torch.argmax(pred, dim=1)\n",
    "            \n",
    "            correct = (pred_label == answer)\n",
    "            correct_cnt += correct.sum().item()\n",
    "            samples_cnt += label.shape[0]\n",
    "\n",
    "        acc = correct_cnt/samples_cnt\n",
    "        print(f\"{correct_cnt} / {samples_cnt}: {acc}\")\n",
    "\n",
    "    return acc"
   ]
  },
  {
   "cell_type": "code",
   "execution_count": 10,
   "metadata": {},
   "outputs": [
    {
     "name": "stdout",
     "output_type": "stream",
     "text": [
      "Epoch[0]\n"
     ]
    },
    {
     "name": "stderr",
     "output_type": "stream",
     "text": [
      "100%|██████████| 1875/1875 [00:18<00:00, 100.65it/s, loss=0.537]\n",
      "100%|██████████| 313/313 [00:00<00:00, 445.69it/s]\n"
     ]
    },
    {
     "name": "stdout",
     "output_type": "stream",
     "text": [
      "8740 / 10000: 0.874\n",
      "Epoch[1]\n"
     ]
    },
    {
     "name": "stderr",
     "output_type": "stream",
     "text": [
      "100%|██████████| 1875/1875 [00:15<00:00, 118.04it/s, loss=0.23]  \n",
      "100%|██████████| 313/313 [00:00<00:00, 334.37it/s]\n"
     ]
    },
    {
     "name": "stdout",
     "output_type": "stream",
     "text": [
      "9115 / 10000: 0.9115\n",
      "Epoch[2]\n"
     ]
    },
    {
     "name": "stderr",
     "output_type": "stream",
     "text": [
      "100%|██████████| 1875/1875 [00:19<00:00, 95.92it/s, loss=0.341]  \n",
      "100%|██████████| 313/313 [00:00<00:00, 346.25it/s]\n"
     ]
    },
    {
     "name": "stdout",
     "output_type": "stream",
     "text": [
      "9321 / 10000: 0.9321\n",
      "Epoch[3]\n"
     ]
    },
    {
     "name": "stderr",
     "output_type": "stream",
     "text": [
      "100%|██████████| 1875/1875 [00:19<00:00, 97.59it/s, loss=0.0455] \n",
      "100%|██████████| 313/313 [00:00<00:00, 332.25it/s]\n"
     ]
    },
    {
     "name": "stdout",
     "output_type": "stream",
     "text": [
      "9317 / 10000: 0.9317\n",
      "Epoch[4]\n"
     ]
    },
    {
     "name": "stderr",
     "output_type": "stream",
     "text": [
      "100%|██████████| 1875/1875 [00:19<00:00, 95.66it/s, loss=0.363]  \n",
      "100%|██████████| 313/313 [00:00<00:00, 382.04it/s]\n"
     ]
    },
    {
     "name": "stdout",
     "output_type": "stream",
     "text": [
      "9383 / 10000: 0.9383\n",
      "Epoch[5]\n"
     ]
    },
    {
     "name": "stderr",
     "output_type": "stream",
     "text": [
      "100%|██████████| 1875/1875 [00:18<00:00, 99.39it/s, loss=0.129]  \n",
      "100%|██████████| 313/313 [00:01<00:00, 279.94it/s]\n"
     ]
    },
    {
     "name": "stdout",
     "output_type": "stream",
     "text": [
      "9422 / 10000: 0.9422\n",
      "Epoch[6]\n"
     ]
    },
    {
     "name": "stderr",
     "output_type": "stream",
     "text": [
      "100%|██████████| 1875/1875 [00:16<00:00, 110.72it/s, loss=0.0535] \n",
      "100%|██████████| 313/313 [00:00<00:00, 337.19it/s]\n"
     ]
    },
    {
     "name": "stdout",
     "output_type": "stream",
     "text": [
      "9517 / 10000: 0.9517\n",
      "Epoch[7]\n"
     ]
    },
    {
     "name": "stderr",
     "output_type": "stream",
     "text": [
      "100%|██████████| 1875/1875 [00:18<00:00, 101.43it/s, loss=0.401]  \n",
      "100%|██████████| 313/313 [00:00<00:00, 372.27it/s]\n"
     ]
    },
    {
     "name": "stdout",
     "output_type": "stream",
     "text": [
      "9524 / 10000: 0.9524\n",
      "Epoch[8]\n"
     ]
    },
    {
     "name": "stderr",
     "output_type": "stream",
     "text": [
      "100%|██████████| 1875/1875 [00:17<00:00, 106.38it/s, loss=0.0426] \n",
      "100%|██████████| 313/313 [00:00<00:00, 320.11it/s]\n"
     ]
    },
    {
     "name": "stdout",
     "output_type": "stream",
     "text": [
      "9614 / 10000: 0.9614\n",
      "Epoch[9]\n"
     ]
    },
    {
     "name": "stderr",
     "output_type": "stream",
     "text": [
      "100%|██████████| 1875/1875 [00:17<00:00, 106.19it/s, loss=0.0864] \n",
      "100%|██████████| 313/313 [00:00<00:00, 348.94it/s]\n"
     ]
    },
    {
     "name": "stdout",
     "output_type": "stream",
     "text": [
      "9522 / 10000: 0.9522\n",
      "Epoch[10]\n"
     ]
    },
    {
     "name": "stderr",
     "output_type": "stream",
     "text": [
      "100%|██████████| 1875/1875 [00:18<00:00, 101.86it/s, loss=0.141]  \n",
      "100%|██████████| 313/313 [00:00<00:00, 458.69it/s]\n"
     ]
    },
    {
     "name": "stdout",
     "output_type": "stream",
     "text": [
      "9664 / 10000: 0.9664\n",
      "Epoch[11]\n"
     ]
    },
    {
     "name": "stderr",
     "output_type": "stream",
     "text": [
      "100%|██████████| 1875/1875 [00:18<00:00, 100.39it/s, loss=0.0396] \n",
      "100%|██████████| 313/313 [00:00<00:00, 347.51it/s]\n"
     ]
    },
    {
     "name": "stdout",
     "output_type": "stream",
     "text": [
      "9669 / 10000: 0.9669\n",
      "Epoch[12]\n"
     ]
    },
    {
     "name": "stderr",
     "output_type": "stream",
     "text": [
      "100%|██████████| 1875/1875 [00:19<00:00, 98.15it/s, loss=0.132]   \n",
      "100%|██████████| 313/313 [00:00<00:00, 345.71it/s]\n"
     ]
    },
    {
     "name": "stdout",
     "output_type": "stream",
     "text": [
      "9649 / 10000: 0.9649\n",
      "Epoch[13]\n"
     ]
    },
    {
     "name": "stderr",
     "output_type": "stream",
     "text": [
      "100%|██████████| 1875/1875 [00:18<00:00, 99.41it/s, loss=0.108]   \n",
      "100%|██████████| 313/313 [00:00<00:00, 327.87it/s]\n"
     ]
    },
    {
     "name": "stdout",
     "output_type": "stream",
     "text": [
      "9687 / 10000: 0.9687\n",
      "Epoch[14]\n"
     ]
    },
    {
     "name": "stderr",
     "output_type": "stream",
     "text": [
      "100%|██████████| 1875/1875 [00:18<00:00, 100.08it/s, loss=0.156]  \n",
      "100%|██████████| 313/313 [00:00<00:00, 355.54it/s]\n"
     ]
    },
    {
     "name": "stdout",
     "output_type": "stream",
     "text": [
      "9722 / 10000: 0.9722\n",
      "Epoch[15]\n"
     ]
    },
    {
     "name": "stderr",
     "output_type": "stream",
     "text": [
      "100%|██████████| 1875/1875 [00:18<00:00, 100.52it/s, loss=0.188]  \n",
      "100%|██████████| 313/313 [00:00<00:00, 313.09it/s]\n"
     ]
    },
    {
     "name": "stdout",
     "output_type": "stream",
     "text": [
      "9725 / 10000: 0.9725\n",
      "Epoch[16]\n"
     ]
    },
    {
     "name": "stderr",
     "output_type": "stream",
     "text": [
      "100%|██████████| 1875/1875 [00:18<00:00, 100.75it/s, loss=0.156]  \n",
      "100%|██████████| 313/313 [00:00<00:00, 317.38it/s]\n"
     ]
    },
    {
     "name": "stdout",
     "output_type": "stream",
     "text": [
      "9713 / 10000: 0.9713\n",
      "Epoch[17]\n"
     ]
    },
    {
     "name": "stderr",
     "output_type": "stream",
     "text": [
      "100%|██████████| 1875/1875 [00:18<00:00, 100.98it/s, loss=0.0168] \n",
      "100%|██████████| 313/313 [00:00<00:00, 326.01it/s]\n"
     ]
    },
    {
     "name": "stdout",
     "output_type": "stream",
     "text": [
      "9702 / 10000: 0.9702\n",
      "Epoch[18]\n"
     ]
    },
    {
     "name": "stderr",
     "output_type": "stream",
     "text": [
      "100%|██████████| 1875/1875 [00:18<00:00, 100.44it/s, loss=0.104]  \n",
      "100%|██████████| 313/313 [00:00<00:00, 339.65it/s]\n"
     ]
    },
    {
     "name": "stdout",
     "output_type": "stream",
     "text": [
      "9713 / 10000: 0.9713\n",
      "Epoch[19]\n"
     ]
    },
    {
     "name": "stderr",
     "output_type": "stream",
     "text": [
      "100%|██████████| 1875/1875 [00:18<00:00, 100.38it/s, loss=0.159]  \n",
      "100%|██████████| 313/313 [00:00<00:00, 342.67it/s]"
     ]
    },
    {
     "name": "stdout",
     "output_type": "stream",
     "text": [
      "9733 / 10000: 0.9733\n"
     ]
    },
    {
     "name": "stderr",
     "output_type": "stream",
     "text": [
      "\n"
     ]
    },
    {
     "data": {
      "image/png": "[encoded data removed]",
      "text/plain": [
       "<Figure size 640x480 with 1 Axes>"
      ]
     },
     "metadata": {},
     "output_type": "display_data"
    }
   ],
   "source": [
    "# train\n",
    "test_acc_list = []\n",
    "\n",
    "for epoch in range(num_epochs):\n",
    "    print(f\"Epoch[{epoch}]\")\n",
    "    correct_cnt = 0\n",
    "    samples_cnt = 0\n",
    "\n",
    "    tepoch = tqdm(train_dataloader)\n",
    "    for idx, (image, label) in enumerate(tepoch):\n",
    "        image = image.to(device)\n",
    "        label = label.to(device)\n",
    "        \n",
    "        # forward\n",
    "        optimizer.zero_grad()\n",
    "        pred = cnn(image)\n",
    "\n",
    "        # backward\n",
    "        loss = criterion(pred, label)\n",
    "        loss.backward()\n",
    "\n",
    "        # update\n",
    "        optimizer.step()\n",
    "\n",
    "        # accuracy\n",
    "        answer = torch.argmax(label, dim=1).detach().cpu().numpy()\n",
    "        pred_label = torch.argmax(pred, dim=1).detach().cpu().numpy()\n",
    "        correct_cnt += (answer == pred_label).sum()\n",
    "        samples_cnt += label.shape[0]\n",
    "\n",
    "        # logging\n",
    "        tepoch.set_postfix({\"loss\": loss.item()})\n",
    "        wandb.log({\"Training loss\": loss.item()})\n",
    "\n",
    "    checkpoint = {\n",
    "        \"model_state_dict\": cnn.state_dict(),\n",
    "        \"optimizer_state_dict\": optimizer.state_dict(),\n",
    "        \"epoch\": epoch\n",
    "    }\n",
    "    torch.save(checkpoint, f\"ckpt_epoch{epoch}.pth\")\n",
    "\n",
    "    # train accuracy\n",
    "    train_acc = correct_cnt / samples_cnt\n",
    "    wandb.log({\"Training accuracy\": train_acc})\n",
    "\n",
    "    # test accuracy\n",
    "    test_acc = get_test_acc(cnn)\n",
    "    test_acc_list.append(test_acc)\n",
    "    wandb.log({\"Test accuracy\": test_acc})\n",
    "\n",
    "plt.plot(test_acc_list)\n",
    "plt.show()"
   ]
  },
  {
   "cell_type": "code",
   "execution_count": 77,
   "metadata": {},
   "outputs": [
    {
     "name": "stdout",
     "output_type": "stream",
     "text": [
      "[[0. 1. 0. 0. 0. 0. 0. 0. 0. 0.]]\n",
      "[[9.9647121e-05 9.9139726e-01 3.1313190e-05 2.5433311e-10 5.3612473e-03\n",
      "  1.0920079e-05 1.6413507e-05 1.8240778e-03 3.0975209e-06 1.2560583e-03]]\n",
      "[[ -4.7738876    4.431348    -5.931483   -17.652388    -0.78857094\n",
      "   -6.9849195   -6.5774183   -1.866693    -8.244921    -2.2397892 ]]\n",
      "1\n"
     ]
    },
    {
     "data": {
      "image/png": "[encoded data removed]",
      "text/plain": [
       "<Figure size 640x480 with 1 Axes>"
      ]
     },
     "metadata": {},
     "output_type": "display_data"
    }
   ],
   "source": [
    "# test\n",
    "idx = 5\n",
    "it = iter(test_dataloader)\n",
    "for _ in range(idx):\n",
    "    next(it)\n",
    "\n",
    "image, label = next(it)\n",
    "image = image.to(device)\n",
    "label = label.to(device)\n",
    "\n",
    "pred = cnn(image)\n",
    "pred_sm = F.softmax(pred, dim=1)\n",
    "\n",
    "image = image.squeeze(0)\n",
    "image_np = image.detach().permute(1,2,0).cpu().numpy()\n",
    "plt.imshow(image_np, cmap='gray')\n",
    "plt.show()"
   ]
  },
  {
   "cell_type": "code",
   "execution_count": 83,
   "metadata": {},
   "outputs": [
    {
     "name": "stderr",
     "output_type": "stream",
     "text": [
      "100%|██████████| 10000/10000 [00:08<00:00, 1215.01it/s]"
     ]
    },
    {
     "name": "stdout",
     "output_type": "stream",
     "text": [
      "9505 / 10000: 0.9505\n"
     ]
    },
    {
     "name": "stderr",
     "output_type": "stream",
     "text": [
      "\n"
     ]
    }
   ],
   "source": [
    "# test\n",
    "correct_cnt = 0\n",
    "samples_cnt = 0\n",
    "for image, label in tqdm(test_dataloader):\n",
    "    image = image.to(device)\n",
    "    label = label.to(device)\n",
    "\n",
    "    answer = torch.argmax(label)\n",
    "\n",
    "    pred = cnn(image)\n",
    "    pred_sm = F.softmax(pred, dim=1)\n",
    "\n",
    "    pred_label = torch.argmax(pred_sm, dim=1)\n",
    "    \n",
    "    correct = (pred_label == answer)\n",
    "    if correct:\n",
    "        correct_cnt += 1\n",
    "    samples_cnt += 1\n",
    "\n",
    "print(f\"{correct_cnt} / {samples_cnt}: {correct_cnt/samples_cnt}\")"
   ]
  }
 ],
 "metadata": {
  "kernelspec": {
   "display_name": "ai",
   "language": "python",
   "name": "python3"
  },
  "language_info": {
   "codemirror_mode": {
    "name": "ipython",
    "version": 3
   },
   "file_extension": ".py",
   "mimetype": "text/x-python",
   "name": "python",
   "nbconvert_exporter": "python",
   "pygments_lexer": "ipython3",
   "version": "3.11.9"
  }
 },
 "nbformat": 4,
 "nbformat_minor": 2
}
